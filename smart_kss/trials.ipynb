{
 "cells": [
  {
   "cell_type": "code",
   "execution_count": 1,
   "id": "cf52d54b-446b-4082-9895-119f9a34ab81",
   "metadata": {
    "tags": []
   },
   "outputs": [
    {
     "data": {
      "text/plain": [
       "hungarianAlgorithm (generic function with 1 method)"
      ]
     },
     "execution_count": 1,
     "metadata": {},
     "output_type": "execute_result"
    }
   ],
   "source": [
    "using ProgressMeter\n",
    "using JLD\n",
    "using Random\n",
    "include(\"../alpcahus.jl\")\n",
    "include(\"../helperFunctions.jl\")\n",
    "include(\"../cluster.jl\")"
   ]
  },
  {
   "cell_type": "code",
   "execution_count": 2,
   "id": "c55c0acd-5c69-4dbf-9c75-fc983c3a48fe",
   "metadata": {
    "tags": []
   },
   "outputs": [],
   "source": [
    "D = 50 # ambient space dimension\n",
    "d = 3 # subspace dimension\n",
    "goodPoints = 6 # good points per subspace\n",
    "ν1 = 0.1 # noise variance good points\n",
    "K = 2 # subspace count\n",
    "varianceRatio = range( 1,300,5) # variance ratio for heatmaps\n",
    "pointRatio = range(1,50,5) # point ratio between good bad data for heatmaps\n",
    "trials = 100; # smoother results\n",
    "qValue = 50; # 24 old value"
   ]
  },
  {
   "cell_type": "code",
   "execution_count": 3,
   "id": "ec4c887b-9554-4347-b939-a562e572c320",
   "metadata": {
    "tags": []
   },
   "outputs": [],
   "source": [
    "seedVector1 = rand(Xoshiro(1234), 1:100000, trials*length(varianceRatio)*length(pointRatio));\n",
    "seedVector2 = rand(Xoshiro(4321), 1:100000, trials*length(varianceRatio)*length(pointRatio));\n",
    "seedVector3 = rand(Xoshiro(2143), 1:100000, trials*length(varianceRatio)*length(pointRatio));\n",
    "seedVector4 = rand(Xoshiro(3412), 1:100000, trials*length(varianceRatio)*length(pointRatio));"
   ]
  },
  {
   "cell_type": "code",
   "execution_count": 4,
   "id": "897f5d7c-1666-4795-8a96-062a1f65114f",
   "metadata": {},
   "outputs": [],
   "source": [
    "# # SIMPLE TEST\n",
    "# ν2 = varianceRatio[end]*ν1\n",
    "# badPoints = round(Int, pointRatio[end]*goodPoints)\n",
    "# U1 = generateSubspace(D, d; seed=seedVector1[10]) \n",
    "# U2 = generateSubspace(D, d; seed=seedVector2[20])\n",
    "# X1 = generateData(U1, [ν1,ν2], [goodPoints,badPoints]; seed=seedVector3[30])\n",
    "# X2 = generateData(U2, [ν1,ν2], [goodPoints,badPoints]; seed=seedVector4[700])\n",
    "# X = hcat(X1,X2);\n",
    "# trueCluster = vec([1*ones(size(X1)[2],1); 2*ones(size(X2)[2],1)]);\n",
    "# estimatedCluster = ALPCAHUS(X,K, [d,d]; B=1, q=10, T=100, alpcahIter=10, subspaceMethod=:alpcah, finalStep=true, spectralStart=true) \n",
    "# clusterError(trueCluster, estimatedCluster)"
   ]
  },
  {
   "cell_type": "code",
   "execution_count": null,
   "id": "2beaffb8-e04b-4241-ad22-e584ec0077a6",
   "metadata": {},
   "outputs": [],
   "source": []
  },
  {
   "cell_type": "code",
   "execution_count": 5,
   "id": "8d8aa4f2-6017-43a1-9f52-63f841d1ec8f",
   "metadata": {
    "tags": []
   },
   "outputs": [
    {
     "name": "stderr",
     "output_type": "stream",
     "text": [
      "\u001b[32mRunning... 100%|█████████████████████████████████████████| Time: 0:17:53\u001b[39m\n"
     ]
    }
   ],
   "source": [
    "ekssTensor = zeros(length(varianceRatio), length(pointRatio),trials)\n",
    "alpcahTensor = zeros(length(varianceRatio), length(pointRatio),trials)\n",
    "oracleTensor = zeros(length(varianceRatio), length(pointRatio),trials)\n",
    "\n",
    "count = 1\n",
    "@showprogress 1 \"Running...\" for i = 1:length(varianceRatio) # varianceRatio\n",
    "     for j = 1:length(pointRatio) # prepend Threads.@threads for multi-threading\n",
    "        for k = 1:trials\n",
    "            # other parameters\n",
    "            ν2 = varianceRatio[i]*ν1\n",
    "            badPoints = round(Int, pointRatio[j]*goodPoints)\n",
    "            # subspace generation\n",
    "            U1 = generateSubspace(D, d; seed=seedVector1[count]) \n",
    "            U2 = generateSubspace(D, d; seed=seedVector2[count])\n",
    "            # data generation\n",
    "            X1 = generateData(U1, [ν1,ν2], [goodPoints,badPoints]; seed=seedVector3[count])\n",
    "            X2 = generateData(U2, [ν1,ν2], [goodPoints,badPoints]; seed=seedVector4[count])\n",
    "            # complete data matrix\n",
    "            X = hcat(X1,X2);\n",
    "            # cluster assignments\n",
    "            trueCluster = vec([1*ones(size(X1)[2],1); 2*ones(size(X2)[2],1)]);\n",
    "            # ekss trial\n",
    "            estimatedCluster = ALPCAHUS(X,K, [d,d]; B=1, q=qValue, T=100, subspaceMethod=:pca, finalStep=false, spectralStart=true)\n",
    "            ekssTensor[i,j,k] = clusterError(trueCluster, estimatedCluster)\n",
    "            # alpcahus trail\n",
    "            estimatedCluster = ALPCAHUS(X,K, [d,d]; B=1, q=qValue, T=100, alpcahIter=10, subspaceMethod=:alpcah, finalStep=true, spectralStart=true) \n",
    "            alpcahTensor[i,j,k] = clusterError(trueCluster, estimatedCluster)\n",
    "            # noisy oracle trial       \n",
    "            noisyU1 = svd(X1[:,1:goodPoints]).U[:,1:d]\n",
    "            noisyU2 = svd(X2[:,1:goodPoints]).U[:,1:d]\n",
    "            estimatedCluster = 1 .+ Vector{Int8}(norm.(eachcol(noisyU1'*X)) .> norm.(eachcol(noisyU2'*X)));\n",
    "            oracleTensor[i,j,k] = clusterError(trueCluster, estimatedCluster)\n",
    "            # increase count\n",
    "            count = count + 1\n",
    "        end\n",
    "    end\n",
    "end\n",
    "\n",
    "save(\"trialData_q50.jld\", \"ekss\", ekssTensor, \"alpcah\", alpcahTensor, \"oracle\", oracleTensor);"
   ]
  },
  {
   "cell_type": "code",
   "execution_count": 7,
   "id": "4221ba0b-0f95-4a40-8aed-d3a68aa5d5b5",
   "metadata": {
    "tags": []
   },
   "outputs": [],
   "source": [
    "trialData = load(\"kss/trialData.jld\")\n",
    "ekssTensor = trialData[\"ekss\"]\n",
    "alpcahTensor = trialData[\"alpcah\"]\n",
    "oracleTensor = trialData[\"oracle\"];"
   ]
  },
  {
   "cell_type": "code",
   "execution_count": 9,
   "id": "89defb27-e7d0-43f1-b226-be642978b194",
   "metadata": {
    "tags": []
   },
   "outputs": [
    {
     "data": {
      "text/plain": [
       "\"/home/javier/Desktop/alpcahus/smart_kss/kss_median.pdf\""
      ]
     },
     "execution_count": 9,
     "metadata": {},
     "output_type": "execute_result"
    }
   ],
   "source": [
    "generateHeatmap(pointRatio, varianceRatio, ekssTensor; plotType=:median, methodType=\"KSS\", ν1=ν1, goodPoints=goodPoints)\n",
    "savefig(\"kss_median.pdf\")"
   ]
  },
  {
   "cell_type": "code",
   "execution_count": 10,
   "id": "d481ffb6-3a1f-4130-9515-033895486573",
   "metadata": {
    "tags": []
   },
   "outputs": [
    {
     "data": {
      "text/plain": [
       "\"/home/javier/Desktop/alpcahus/smart_kss/alpcahus_median.pdf\""
      ]
     },
     "execution_count": 10,
     "metadata": {},
     "output_type": "execute_result"
    }
   ],
   "source": [
    "generateHeatmap(pointRatio, varianceRatio, alpcahTensor; plotType=:median, methodType=\"ALPCAHUS\", ν1=ν1, goodPoints=goodPoints)\n",
    "savefig(\"alpcahus_median.pdf\")"
   ]
  },
  {
   "cell_type": "code",
   "execution_count": 11,
   "id": "e5bd834e-caaf-4e9d-9552-9149d2b53c96",
   "metadata": {
    "tags": []
   },
   "outputs": [
    {
     "data": {
      "text/plain": [
       "\"/home/javier/Desktop/alpcahus/smart_kss/oracle_median.pdf\""
      ]
     },
     "execution_count": 11,
     "metadata": {},
     "output_type": "execute_result"
    }
   ],
   "source": [
    "generateHeatmap(pointRatio, varianceRatio, oracleTensor; plotType=:median, methodType=\"Noisy Oracle\", ν1=ν1, goodPoints=goodPoints)\n",
    "savefig(\"oracle_median.pdf\")"
   ]
  },
  {
   "cell_type": "code",
   "execution_count": 12,
   "id": "ebacfc4f-9766-46a9-a602-e0133fdb7b79",
   "metadata": {
    "tags": []
   },
   "outputs": [
    {
     "data": {
      "text/plain": [
       "\"/home/javier/Desktop/alpcahus/smart_kss/kss_mean.pdf\""
      ]
     },
     "execution_count": 12,
     "metadata": {},
     "output_type": "execute_result"
    }
   ],
   "source": [
    "generateHeatmap(pointRatio, varianceRatio, ekssTensor; plotType=:mean, methodType=\"KSS\", ν1=ν1, goodPoints=goodPoints)\n",
    "savefig(\"kss_mean.pdf\")"
   ]
  },
  {
   "cell_type": "code",
   "execution_count": 13,
   "id": "93dc9347-3e32-4b8b-a9de-7e9074599182",
   "metadata": {
    "tags": []
   },
   "outputs": [
    {
     "data": {
      "text/plain": [
       "\"/home/javier/Desktop/alpcahus/smart_kss/alpcahus_mean.pdf\""
      ]
     },
     "execution_count": 13,
     "metadata": {},
     "output_type": "execute_result"
    }
   ],
   "source": [
    "generateHeatmap(pointRatio, varianceRatio, alpcahTensor; plotType=:mean, methodType=\"ALPCAHUS\", ν1=ν1, goodPoints=goodPoints)\n",
    "savefig(\"alpcahus_mean.pdf\")"
   ]
  },
  {
   "cell_type": "code",
   "execution_count": 14,
   "id": "6380e2c7-dade-4e80-8503-b17a21831942",
   "metadata": {
    "tags": []
   },
   "outputs": [
    {
     "data": {
      "text/plain": [
       "\"/home/javier/Desktop/alpcahus/smart_kss/oracle_mean.pdf\""
      ]
     },
     "execution_count": 14,
     "metadata": {},
     "output_type": "execute_result"
    }
   ],
   "source": [
    "generateHeatmap(pointRatio, varianceRatio, oracleTensor; plotType=:mean, methodType=\"Noisy Oracle\", ν1=ν1, goodPoints=goodPoints)\n",
    "savefig(\"oracle_mean.pdf\")"
   ]
  },
  {
   "cell_type": "code",
   "execution_count": 15,
   "id": "adad7704-d338-4730-8ee6-3742b9e3d124",
   "metadata": {
    "tags": []
   },
   "outputs": [
    {
     "data": {
      "text/plain": [
       "\"/home/javier/Desktop/alpcahus/smart_kss/kss_variance.pdf\""
      ]
     },
     "execution_count": 15,
     "metadata": {},
     "output_type": "execute_result"
    }
   ],
   "source": [
    "generateHeatmap(pointRatio, varianceRatio, ekssTensor; plotType=:variance, methodType=\"KSS\", ν1=ν1, goodPoints=goodPoints)\n",
    "savefig(\"kss_variance.pdf\")"
   ]
  },
  {
   "cell_type": "code",
   "execution_count": 16,
   "id": "20b79a6a-096f-4299-80fa-2dec0e959e43",
   "metadata": {
    "tags": []
   },
   "outputs": [
    {
     "data": {
      "text/plain": [
       "\"/home/javier/Desktop/alpcahus/smart_kss/alpcahus_variance.pdf\""
      ]
     },
     "execution_count": 16,
     "metadata": {},
     "output_type": "execute_result"
    }
   ],
   "source": [
    "generateHeatmap(pointRatio, varianceRatio, alpcahTensor; plotType=:variance, methodType=\"ALPCAHUS\", ν1=ν1, goodPoints=goodPoints)\n",
    "savefig(\"alpcahus_variance.pdf\")"
   ]
  },
  {
   "cell_type": "code",
   "execution_count": 17,
   "id": "00d11357-cd3f-4925-b45c-bbce5c8bb734",
   "metadata": {
    "tags": []
   },
   "outputs": [
    {
     "data": {
      "text/plain": [
       "\"/home/javier/Desktop/alpcahus/smart_kss/oracle_variance.pdf\""
      ]
     },
     "execution_count": 17,
     "metadata": {},
     "output_type": "execute_result"
    }
   ],
   "source": [
    "generateHeatmap(pointRatio, varianceRatio, oracleTensor; plotType=:variance, methodType=\"Noisy Oracle\", ν1=ν1, goodPoints=goodPoints)\n",
    "savefig(\"oracle_variance.pdf\")"
   ]
  },
  {
   "cell_type": "code",
   "execution_count": null,
   "id": "3e7938e0-b80d-4952-a6f4-c7e59f496916",
   "metadata": {},
   "outputs": [],
   "source": []
  }
 ],
 "metadata": {
  "kernelspec": {
   "display_name": "Julia (31 threads) 1.9.3",
   "language": "julia",
   "name": "julia-_31-threads_-1.9"
  },
  "language_info": {
   "file_extension": ".jl",
   "mimetype": "application/julia",
   "name": "julia",
   "version": "1.9.3"
  }
 },
 "nbformat": 4,
 "nbformat_minor": 5
}
