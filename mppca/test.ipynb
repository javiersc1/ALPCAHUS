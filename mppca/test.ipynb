{
 "cells": [
  {
   "cell_type": "code",
   "execution_count": 1,
   "id": "30f12bb1-7dc7-4d9d-ba28-3ec5fcf633ae",
   "metadata": {},
   "outputs": [
    {
     "data": {
      "text/plain": [
       "correlation_kernel_sparse (generic function with 1 method)"
      ]
     },
     "execution_count": 1,
     "metadata": {},
     "output_type": "execute_result"
    }
   ],
   "source": [
    "using ProgressMeter\n",
    "using JLD\n",
    "using Random\n",
    "include(\"../alpcahus.jl\")\n",
    "include(\"../helperFunctions.jl\")\n",
    "include(\"../cluster.jl\")\n",
    "include(\"../hemppcatFunctions.jl\")\n",
    "include(\"../otherMethods.jl\")"
   ]
  },
  {
   "cell_type": "code",
   "execution_count": 2,
   "id": "cb20708b-0433-45bd-a0cd-7822902d15c7",
   "metadata": {},
   "outputs": [],
   "source": [
    "X = randn(50,250)\n",
    "D = size(X)[1]\n",
    "d = 5\n",
    "K = 2\n",
    "#p = [10;240]\n",
    "variances = 10*rand(250);"
   ]
  },
  {
   "cell_type": "code",
   "execution_count": 3,
   "id": "256c3deb-d04f-4c0b-a09f-e1481221f485",
   "metadata": {},
   "outputs": [
    {
     "data": {
      "text/plain": [
       "MPPCAModel([[0.5629077772917 -0.28630604802116993 … -0.6265230363396527 0.07367523858468893; -0.7215472105675144 -0.4602273180843877 … 0.06691307948407191 0.8743273202178653; … ; 0.7464699023994982 0.3532951500149899 … -0.7626984828505156 0.8363490113521066; 0.6391082790821686 -0.4797603721254946 … -0.5337419624766004 -0.1642520501032289], [0.18644743478837364 -1.5169107166141986 … -0.7678341297970659 0.01108680239401094; 0.0862466705496027 -0.3153980320199336 … 0.8740044867800288 0.3798998995020047; … ; 0.6077764231850343 0.9766742501904891 … -0.32531901739960994 -0.34263912875245756; 0.18002426502211635 -0.11840400561053556 … 0.6676160943689787 -1.0658170845351627]], [0.0 0.0; 0.0 0.0; … ; 0.0 0.0; 0.0 0.0], [0.5, 0.5], [1, 1], 250, [[0.0 0.0 … 0.0 0.0; 0.0 0.0 … 0.0 0.0; … ; 0.0 0.0 … 0.0 0.0; 0.0 0.0 … 0.0 0.0], [0.0 0.0 … 0.0 0.0; 0.0 0.0 … 0.0 0.0; … ; 0.0 0.0 … 0.0 0.0; 0.0 0.0 … 0.0 0.0]], [[0.0 0.0 … 0.0 0.0; 0.0 0.0 … 0.0 0.0; … ; 0.0 0.0 … 0.0 0.0; 0.0 0.0 … 0.0 0.0], [0.0 0.0 … 0.0 0.0; 0.0 0.0 … 0.0 0.0; … ; 0.0 0.0 … 0.0 0.0; 0.0 0.0 … 0.0 0.0]], [0.0 0.0; 0.0 0.0; … ; 0.0 0.0; 0.0 0.0], [0.0 0.0 … 0.0 0.0; 0.0 0.0 … 0.0 0.0; … ; 0.0 0.0 … 0.0 0.0; 0.0 0.0 … 0.0 0.0;;; 0.0 0.0 … 0.0 0.0; 0.0 0.0 … 0.0 0.0; … ; 0.0 0.0 … 0.0 0.0; 0.0 0.0 … 0.0 0.0], [0.0 0.0 … 0.0 0.0; 0.0 0.0 … 0.0 0.0; … ; 0.0 0.0 … 0.0 0.0; 0.0 0.0 … 0.0 0.0;;; 0.0 0.0 … 0.0 0.0; 0.0 0.0 … 0.0 0.0; … ; 0.0 0.0 … 0.0 0.0; 0.0 0.0 … 0.0 0.0;;; 0.0 0.0 … 0.0 0.0; 0.0 0.0 … 0.0 0.0; … ; 0.0 0.0 … 0.0 0.0; 0.0 0.0 … 0.0 0.0;;; … ;;; 0.0 0.0 … 0.0 0.0; 0.0 0.0 … 0.0 0.0; … ; 0.0 0.0 … 0.0 0.0; 0.0 0.0 … 0.0 0.0;;; 0.0 0.0 … 0.0 0.0; 0.0 0.0 … 0.0 0.0; … ; 0.0 0.0 … 0.0 0.0; 0.0 0.0 … 0.0 0.0;;; 0.0 0.0 … 0.0 0.0; 0.0 0.0 … 0.0 0.0; … ; 0.0 0.0 … 0.0 0.0; 0.0 0.0 … 0.0 0.0;;;; 0.0 0.0 … 0.0 0.0; 0.0 0.0 … 0.0 0.0; … ; 0.0 0.0 … 0.0 0.0; 0.0 0.0 … 0.0 0.0;;; 0.0 0.0 … 0.0 0.0; 0.0 0.0 … 0.0 0.0; … ; 0.0 0.0 … 0.0 0.0; 0.0 0.0 … 0.0 0.0;;; 0.0 0.0 … 0.0 0.0; 0.0 0.0 … 0.0 0.0; … ; 0.0 0.0 … 0.0 0.0; 0.0 0.0 … 0.0 0.0;;; … ;;; 0.0 0.0 … 0.0 0.0; 0.0 0.0 … 0.0 0.0; … ; 0.0 0.0 … 0.0 0.0; 0.0 0.0 … 0.0 0.0;;; 0.0 0.0 … 0.0 0.0; 0.0 0.0 … 0.0 0.0; … ; 0.0 0.0 … 0.0 0.0; 0.0 0.0 … 0.0 0.0;;; 0.0 0.0 … 0.0 0.0; 0.0 0.0 … 0.0 0.0; … ; 0.0 0.0 … 0.0 0.0; 0.0 0.0 … 0.0 0.0])"
      ]
     },
     "execution_count": 3,
     "metadata": {},
     "output_type": "execute_result"
    }
   ],
   "source": [
    "c = tscWrapper(X, 10; K=K)\n",
    "T1 = svd(X[:,c .== 1])\n",
    "T2 = svd(X[:,c .== 2])\n",
    "F1 = T1.U[:,1:d]*Diagonal(sqrt.(T1.S[1:d]))\n",
    "F2 = T2.U[:,1:d]*Diagonal(sqrt.(T2.S[1:d]))\n",
    "\n",
    "#F1 = svd(randn(D,d)).U\n",
    "#F2 = svd(randn(D,d)).U\n",
    "F_init = [F1 , F2] # Factor matrices\n",
    "μ_init = zeros(D, K) # Mixture means\n",
    "π_init = [0.5, 0.5] # Mixing proportions\n",
    "#weighted_var = (p[1]/(p[2]+p[1]))*variances[1] + (p[2]/(p[2]+p[1]))*variances[2] # smooth variance based on points for MPPCA\n",
    "v_init = [1;1]#variances#[weighted_var, weighted_var] # Noise variances\n",
    "n = 250#[2*p[1], 2*p[2]] # number of points in each variance group\n",
    "# Run MPPCA\n",
    "model = create_MPPCAModel(F_init, μ_init, π_init, v_init, sum(n)) \n",
    "#results, _ = mppca(model, X; eps=1e-6); "
   ]
  },
  {
   "cell_type": "code",
   "execution_count": 28,
   "id": "da9648ba-0f4e-4b03-b362-c7fcd10efaa7",
   "metadata": {},
   "outputs": [
    {
     "data": {
      "text/plain": [
       "MPPCA_Wrapper (generic function with 1 method)"
      ]
     },
     "execution_count": 28,
     "metadata": {},
     "output_type": "execute_result"
    }
   ],
   "source": [
    "function MPPCA_Wrapper(X::Matrix, K::Int, q::Int, d::Int)\n",
    "    # TWO CLUSTERS ONLY\n",
    "    D,N = size(X)\n",
    "    \n",
    "    c = tscWrapper(X, q; K=K)\n",
    "    T1 = svd(X[:,c .== 1])\n",
    "    T2 = svd(X[:,c .== 2])\n",
    "    F1 = T1.U[:,1:d]*Diagonal(sqrt.(T1.S[1:d]))\n",
    "    F2 = T2.U[:,1:d]*Diagonal(sqrt.(T2.S[1:d]))\n",
    "\n",
    "    F_init = [F1 , F2] # Factor matrices\n",
    "    μ_init = zeros(D, K) # Mixture means\n",
    "    π_init = [0.5, 0.5] # Mixing proportions\n",
    "    v_init = [1.0; 1.0]\n",
    "\n",
    "    model = create_MPPCAModel(F_init, μ_init, π_init, v_init, N) \n",
    "    results, _ = mppca(model, X; eps=1e-4); \n",
    "\n",
    "    U1 = svd(results.F[1]).U\n",
    "    U2 = svd(results.F[2]).U\n",
    "\n",
    "    labelsMPPCA = clusterAssignment(X, [U1,U2], K)\n",
    "    \n",
    "    return labelsMPPCA\n",
    "end"
   ]
  },
  {
   "cell_type": "code",
   "execution_count": 29,
   "id": "eff632c2-0ca6-414b-8056-4ef7130afa6b",
   "metadata": {},
   "outputs": [
    {
     "data": {
      "text/plain": [
       "250-element Vector{Int64}:\n",
       " 2\n",
       " 2\n",
       " 2\n",
       " 2\n",
       " 2\n",
       " 1\n",
       " 1\n",
       " 2\n",
       " 2\n",
       " 2\n",
       " 2\n",
       " 2\n",
       " 2\n",
       " ⋮\n",
       " 2\n",
       " 1\n",
       " 1\n",
       " 1\n",
       " 1\n",
       " 2\n",
       " 1\n",
       " 2\n",
       " 2\n",
       " 2\n",
       " 1\n",
       " 2"
      ]
     },
     "execution_count": 29,
     "metadata": {},
     "output_type": "execute_result"
    }
   ],
   "source": [
    "MPPCA_Wrapper(X,2,10,5)"
   ]
  },
  {
   "cell_type": "code",
   "execution_count": null,
   "id": "542c4c59-6e7c-40e4-8822-55d31425661d",
   "metadata": {},
   "outputs": [],
   "source": []
  }
 ],
 "metadata": {
  "kernelspec": {
   "display_name": "Julia (31 threads) 1.9.3",
   "language": "julia",
   "name": "julia-_31-threads_-1.9"
  },
  "language_info": {
   "file_extension": ".jl",
   "mimetype": "application/julia",
   "name": "julia",
   "version": "1.9.3"
  }
 },
 "nbformat": 4,
 "nbformat_minor": 5
}
