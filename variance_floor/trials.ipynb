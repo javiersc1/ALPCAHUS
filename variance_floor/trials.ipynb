{
 "cells": [
  {
   "cell_type": "code",
   "execution_count": 1,
   "id": "cf52d54b-446b-4082-9895-119f9a34ab81",
   "metadata": {
    "tags": []
   },
   "outputs": [
    {
     "data": {
      "text/plain": [
       "clusterAssignment (generic function with 1 method)"
      ]
     },
     "execution_count": 1,
     "metadata": {},
     "output_type": "execute_result"
    }
   ],
   "source": [
    "using ProgressMeter\n",
    "using JLD\n",
    "using Random\n",
    "include(\"../alpcahus.jl\")\n",
    "include(\"../helperFunctions.jl\")\n",
    "include(\"../cluster.jl\")"
   ]
  },
  {
   "cell_type": "code",
   "execution_count": 2,
   "id": "c55c0acd-5c69-4dbf-9c75-fc983c3a48fe",
   "metadata": {
    "tags": []
   },
   "outputs": [],
   "source": [
    "D = 25 # ambient space dimension\n",
    "d = 3 # subspace dimension\n",
    "goodPoints = 6 # good points per subspace\n",
    "ν1 = 0.1 # noise variance good points\n",
    "K = 2 # subspace count\n",
    "varianceRatio = range( 1,300,5) # variance ratio for heatmaps\n",
    "pointRatio = range(1,50,5) # point ratio between good bad data for heatmaps\n",
    "trials = 50; # smoother results\n",
    "qValue = 24;"
   ]
  },
  {
   "cell_type": "code",
   "execution_count": 3,
   "id": "ec4c887b-9554-4347-b939-a562e572c320",
   "metadata": {
    "tags": []
   },
   "outputs": [],
   "source": [
    "seedVector1 = rand(Xoshiro(1234), 1:100000, trials*length(varianceRatio)*length(pointRatio));\n",
    "seedVector2 = rand(Xoshiro(4321), 1:100000, trials*length(varianceRatio)*length(pointRatio));\n",
    "seedVector3 = rand(Xoshiro(2143), 1:100000, trials*length(varianceRatio)*length(pointRatio));\n",
    "seedVector4 = rand(Xoshiro(3412), 1:100000, trials*length(varianceRatio)*length(pointRatio));"
   ]
  },
  {
   "cell_type": "code",
   "execution_count": 4,
   "id": "8d8aa4f2-6017-43a1-9f52-63f841d1ec8f",
   "metadata": {
    "tags": []
   },
   "outputs": [
    {
     "name": "stderr",
     "output_type": "stream",
     "text": [
      "\u001b[32mRunning... 100%|█████████████████████████████████████████| Time: 0:42:54\u001b[39m\n"
     ]
    }
   ],
   "source": [
    "trial1Tensor = zeros(length(varianceRatio), length(pointRatio),trials)\n",
    "trial2Tensor = zeros(length(varianceRatio), length(pointRatio),trials)\n",
    "trial3Tensor = zeros(length(varianceRatio), length(pointRatio),trials)\n",
    "\n",
    "count = 1\n",
    "@showprogress 1 \"Running...\" for i = 1:length(varianceRatio) # varianceRatio\n",
    "     for j = 1:length(pointRatio) # prepend Threads.@threads for multi-threading\n",
    "        for k = 1:trials\n",
    "            # other parameters\n",
    "            ν2 = varianceRatio[i]*ν1\n",
    "            badPoints = round(Int, pointRatio[j]*goodPoints)\n",
    "            # subspace generation\n",
    "            U1 = generateSubspace(D, d; seed=seedVector1[count]) \n",
    "            U2 = generateSubspace(D, d; seed=seedVector2[count])\n",
    "            # data generation\n",
    "            X1 = generateData(U1, [ν1,ν2], [goodPoints,badPoints]; seed=seedVector3[count])\n",
    "            X2 = generateData(U2, [ν1,ν2], [goodPoints,badPoints]; seed=seedVector4[count])\n",
    "            # complete data matrix\n",
    "            X = hcat(X1,X2);\n",
    "            # cluster assignments\n",
    "            trueLabels = vec([1*ones(size(X1)[2],1); 2*ones(size(X2)[2],1)]);\n",
    "            #  trial\n",
    "            estimatedCluster = ALPCAHUS(X,K, d; B=128, q=qValue, T=3, alpcahIter=10, subspaceMethod=:alpcah, finalStep=true, varfloor=1e-1, varianceMethod=:groupless)\n",
    "            trial1Tensor[i,j,k] = clusterError(trueLabels,estimatedCluster)\n",
    "            #  trail\n",
    "            estimatedCluster = ALPCAHUS(X,K, d; B=128, q=qValue, T=3, alpcahIter=10, subspaceMethod=:alpcah, finalStep=true, varfloor=1e-5, varianceMethod=:groupless) \n",
    "            trial2Tensor[i,j,k] = clusterError(trueLabels,estimatedCluster)\n",
    "            # noisy oracle trial       \n",
    "            estimatedCluster = ALPCAHUS(X,K, d; B=128, q=qValue, T=3, alpcahIter=10, subspaceMethod=:alpcah, finalStep=true, varfloor=1e-9, varianceMethod=:groupless)\n",
    "            trial3Tensor[i,j,k] = clusterError(trueLabels,estimatedCluster)\n",
    "            # increase count\n",
    "            count = count + 1\n",
    "        end\n",
    "    end\n",
    "end\n",
    "\n",
    "save(\"trialData.jld\", \"trial1\", trial1Tensor, \"trial2\", trial2Tensor, \"trial3\", trial3Tensor);"
   ]
  },
  {
   "cell_type": "code",
   "execution_count": 7,
   "id": "4221ba0b-0f95-4a40-8aed-d3a68aa5d5b5",
   "metadata": {
    "tags": []
   },
   "outputs": [],
   "source": [
    "trialData = load(\"trialData.jld\")\n",
    "trial1Tensor = trialData[\"trial1\"]\n",
    "trial2Tensor = trialData[\"trial2\"]\n",
    "trial3Tensor = trialData[\"trial3\"];"
   ]
  },
  {
   "cell_type": "code",
   "execution_count": 5,
   "id": "89defb27-e7d0-43f1-b226-be642978b194",
   "metadata": {
    "tags": []
   },
   "outputs": [
    {
     "data": {
      "text/plain": [
       "\"/home/javier/Desktop/alpcahus/variance_floor/trial1_median.pdf\""
      ]
     },
     "execution_count": 5,
     "metadata": {},
     "output_type": "execute_result"
    }
   ],
   "source": [
    "generateHeatmap(pointRatio, varianceRatio, trial1Tensor; plotType=:median, methodType=\"ALPCAHUS (varfloor=1e-1)\", ν1=ν1, goodPoints=goodPoints)\n",
    "savefig(\"trial1_median.pdf\")"
   ]
  },
  {
   "cell_type": "code",
   "execution_count": 6,
   "id": "d481ffb6-3a1f-4130-9515-033895486573",
   "metadata": {
    "tags": []
   },
   "outputs": [
    {
     "data": {
      "text/plain": [
       "\"/home/javier/Desktop/alpcahus/variance_floor/trial2_median.pdf\""
      ]
     },
     "execution_count": 6,
     "metadata": {},
     "output_type": "execute_result"
    }
   ],
   "source": [
    "generateHeatmap(pointRatio, varianceRatio, trial2Tensor; plotType=:median, methodType=\"ALPCAHUS (varfloor=1e-5)\", ν1=ν1, goodPoints=goodPoints)\n",
    "savefig(\"trial2_median.pdf\")"
   ]
  },
  {
   "cell_type": "code",
   "execution_count": 7,
   "id": "e5bd834e-caaf-4e9d-9552-9149d2b53c96",
   "metadata": {
    "tags": []
   },
   "outputs": [
    {
     "data": {
      "text/plain": [
       "\"/home/javier/Desktop/alpcahus/variance_floor/trial3_median.pdf\""
      ]
     },
     "execution_count": 7,
     "metadata": {},
     "output_type": "execute_result"
    }
   ],
   "source": [
    "generateHeatmap(pointRatio, varianceRatio, trial3Tensor; plotType=:median, methodType=\"ALPCAHUS (varfloor=1e-9)\", ν1=ν1, goodPoints=goodPoints)\n",
    "savefig(\"trial3_median.pdf\")"
   ]
  },
  {
   "cell_type": "code",
   "execution_count": 8,
   "id": "3e7938e0-b80d-4952-a6f4-c7e59f496916",
   "metadata": {},
   "outputs": [
    {
     "data": {
      "text/plain": [
       "\"/home/javier/Desktop/alpcahus/variance_floor/trial1_variance.pdf\""
      ]
     },
     "execution_count": 8,
     "metadata": {},
     "output_type": "execute_result"
    }
   ],
   "source": [
    "generateHeatmap(pointRatio, varianceRatio, trial1Tensor; plotType=:variance, methodType=\"ALPCAHUS (varfloor=1e-1)\", ν1=ν1, goodPoints=goodPoints)\n",
    "savefig(\"trial1_variance.pdf\")"
   ]
  },
  {
   "cell_type": "code",
   "execution_count": 9,
   "id": "11ab40ad-f277-44a4-971d-15fe5bd41879",
   "metadata": {
    "tags": []
   },
   "outputs": [
    {
     "data": {
      "text/plain": [
       "\"/home/javier/Desktop/alpcahus/variance_floor/trial2_variance.pdf\""
      ]
     },
     "execution_count": 9,
     "metadata": {},
     "output_type": "execute_result"
    }
   ],
   "source": [
    "generateHeatmap(pointRatio, varianceRatio, trial2Tensor; plotType=:variance, methodType=\"ALPCAHUS (varfloor=1e-5)\", ν1=ν1, goodPoints=goodPoints)\n",
    "savefig(\"trial2_variance.pdf\")"
   ]
  },
  {
   "cell_type": "code",
   "execution_count": 10,
   "id": "6896f930-bccd-45cc-a322-0ef291a822f6",
   "metadata": {
    "tags": []
   },
   "outputs": [
    {
     "data": {
      "text/plain": [
       "\"/home/javier/Desktop/alpcahus/variance_floor/trial3_variance.pdf\""
      ]
     },
     "execution_count": 10,
     "metadata": {},
     "output_type": "execute_result"
    }
   ],
   "source": [
    "generateHeatmap(pointRatio, varianceRatio, trial3Tensor; plotType=:variance, methodType=\"ALPCAHUS (varfloor=1e-9)\", ν1=ν1, goodPoints=goodPoints)\n",
    "savefig(\"trial3_variance.pdf\")"
   ]
  },
  {
   "cell_type": "code",
   "execution_count": 11,
   "id": "f057700d-c55a-4dd1-8d91-0e772dce4873",
   "metadata": {
    "tags": []
   },
   "outputs": [
    {
     "data": {
      "text/plain": [
       "\"/home/javier/Desktop/alpcahus/variance_floor/trial1_mean.pdf\""
      ]
     },
     "execution_count": 11,
     "metadata": {},
     "output_type": "execute_result"
    }
   ],
   "source": [
    "generateHeatmap(pointRatio, varianceRatio, trial1Tensor; plotType=:mean, methodType=\"ALPCAHUS (varfloor=1e-1)\", ν1=ν1, goodPoints=goodPoints)\n",
    "savefig(\"trial1_mean.pdf\")"
   ]
  },
  {
   "cell_type": "code",
   "execution_count": 12,
   "id": "9f75adbc-371f-4cca-a2ef-b4fe24389e6f",
   "metadata": {
    "tags": []
   },
   "outputs": [
    {
     "data": {
      "text/plain": [
       "\"/home/javier/Desktop/alpcahus/variance_floor/trial2_mean.pdf\""
      ]
     },
     "execution_count": 12,
     "metadata": {},
     "output_type": "execute_result"
    }
   ],
   "source": [
    "generateHeatmap(pointRatio, varianceRatio, trial2Tensor; plotType=:mean, methodType=\"ALPCAHUS (varfloor=1e-5)\", ν1=ν1, goodPoints=goodPoints)\n",
    "savefig(\"trial2_mean.pdf\")"
   ]
  },
  {
   "cell_type": "code",
   "execution_count": 13,
   "id": "8038a2a0-a1f0-430c-b2b2-678bcf9c88fc",
   "metadata": {
    "tags": []
   },
   "outputs": [
    {
     "data": {
      "text/plain": [
       "\"/home/javier/Desktop/alpcahus/variance_floor/trial3_mean.pdf\""
      ]
     },
     "execution_count": 13,
     "metadata": {},
     "output_type": "execute_result"
    }
   ],
   "source": [
    "generateHeatmap(pointRatio, varianceRatio, trial3Tensor; plotType=:mean, methodType=\"ALPCAHUS (varfloor=1e-9)\", ν1=ν1, goodPoints=goodPoints)\n",
    "savefig(\"trial3_mean.pdf\")"
   ]
  },
  {
   "cell_type": "code",
   "execution_count": null,
   "id": "3be67bd4-6f5e-4b2c-8e12-dff4fd411aaf",
   "metadata": {},
   "outputs": [],
   "source": []
  }
 ],
 "metadata": {
  "kernelspec": {
   "display_name": "Julia (32 threads) 1.8.5",
   "language": "julia",
   "name": "julia-_32-threads_-1.8"
  },
  "language_info": {
   "file_extension": ".jl",
   "mimetype": "application/julia",
   "name": "julia",
   "version": "1.8.5"
  }
 },
 "nbformat": 4,
 "nbformat_minor": 5
}
