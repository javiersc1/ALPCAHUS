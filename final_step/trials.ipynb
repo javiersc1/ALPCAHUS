{
 "cells": [
  {
   "cell_type": "code",
   "execution_count": 1,
   "id": "cf52d54b-446b-4082-9895-119f9a34ab81",
   "metadata": {
    "tags": []
   },
   "outputs": [
    {
     "data": {
      "text/plain": [
       "clusterAssignment (generic function with 1 method)"
      ]
     },
     "execution_count": 1,
     "metadata": {},
     "output_type": "execute_result"
    }
   ],
   "source": [
    "using ProgressMeter\n",
    "using JLD\n",
    "using Random\n",
    "include(\"../alpcahus.jl\")\n",
    "include(\"../helperFunctions.jl\")\n",
    "include(\"../cluster.jl\")"
   ]
  },
  {
   "cell_type": "code",
   "execution_count": 2,
   "id": "c55c0acd-5c69-4dbf-9c75-fc983c3a48fe",
   "metadata": {
    "tags": []
   },
   "outputs": [],
   "source": [
    "D = 25 # ambient space dimension\n",
    "d = 3 # subspace dimension\n",
    "goodPoints = 6 # good points per subspace\n",
    "ν1 = 0.1 # noise variance good points\n",
    "K = 2 # subspace count\n",
    "varianceRatio = range( 1,300,5) # variance ratio for heatmaps\n",
    "pointRatio = range(1,50,5) # point ratio between good bad data for heatmaps\n",
    "trials = 50; # smoother results"
   ]
  },
  {
   "cell_type": "code",
   "execution_count": 3,
   "id": "ec4c887b-9554-4347-b939-a562e572c320",
   "metadata": {
    "tags": []
   },
   "outputs": [],
   "source": [
    "seedVector1 = rand(Xoshiro(1234), 1:100000, trials*length(varianceRatio)*length(pointRatio));\n",
    "seedVector2 = rand(Xoshiro(4321), 1:100000, trials*length(varianceRatio)*length(pointRatio));\n",
    "seedVector3 = rand(Xoshiro(2143), 1:100000, trials*length(varianceRatio)*length(pointRatio));\n",
    "seedVector4 = rand(Xoshiro(3412), 1:100000, trials*length(varianceRatio)*length(pointRatio));"
   ]
  },
  {
   "cell_type": "code",
   "execution_count": 4,
   "id": "8d8aa4f2-6017-43a1-9f52-63f841d1ec8f",
   "metadata": {
    "tags": []
   },
   "outputs": [
    {
     "name": "stderr",
     "output_type": "stream",
     "text": [
      "\u001b[32mRunning... 100%|█████████████████████████████████████████| Time: 0:52:45\u001b[39m\n"
     ]
    }
   ],
   "source": [
    "trial0Tensor = zeros(length(varianceRatio), length(pointRatio),trials)\n",
    "trial1Tensor = zeros(length(varianceRatio), length(pointRatio),trials)\n",
    "trial2Tensor = zeros(length(varianceRatio), length(pointRatio),trials)\n",
    "trial3Tensor = zeros(length(varianceRatio), length(pointRatio),trials)\n",
    "\n",
    "count = 1\n",
    "@showprogress 1 \"Running...\" for i = 1:length(varianceRatio) # varianceRatio\n",
    "     for j = 1:length(pointRatio) # prepend Threads.@threads for multi-threading\n",
    "        for k = 1:trials\n",
    "            # other parameters\n",
    "            ν2 = varianceRatio[i]*ν1\n",
    "            badPoints = round(Int, pointRatio[j]*goodPoints)\n",
    "            # subspace generation\n",
    "            U1 = generateSubspace(D, d; seed=seedVector1[count]) \n",
    "            U2 = generateSubspace(D, d; seed=seedVector2[count])\n",
    "            # data generation\n",
    "            X1 = generateData(U1, [ν1,ν2], [goodPoints,badPoints]; seed=seedVector3[count])\n",
    "            X2 = generateData(U2, [ν1,ν2], [goodPoints,badPoints]; seed=seedVector4[count])\n",
    "            # complete data matrix\n",
    "            X = hcat(X1,X2);\n",
    "            # cluster assignments\n",
    "            trueLabels = vec([1*ones(size(X1)[2],1); 2*ones(size(X2)[2],1)]);\n",
    "            #  trial\n",
    "            estimatedCluster = ALPCAHUS(X,K, d; B=128, q=24, T=3, subspaceMethod=:pca, finalStep=false)\n",
    "            trial0Tensor[i,j,k] = clusterError(trueLabels,estimatedCluster)\n",
    "            #  trial\n",
    "            estimatedCluster = ALPCAHUS(X,K, d; B=128, q=24, T=3, subspaceMethod=:pca, finalStep=true)\n",
    "            trial1Tensor[i,j,k] = clusterError(trueLabels,estimatedCluster)\n",
    "            #  trail\n",
    "            estimatedCluster = ALPCAHUS(X,K, d; B=128, q=24, T=3, alpcahIter=20, subspaceMethod=:alpcah, finalStep=false, varfloor=1e-9, varianceMethod=:groupless) \n",
    "            trial2Tensor[i,j,k] = clusterError(trueLabels,estimatedCluster)\n",
    "            # noisy oracle trial       \n",
    "            estimatedCluster = ALPCAHUS(X,K, d; B=128, q=24, T=3, alpcahIter=20, subspaceMethod=:alpcah, finalStep=true, varfloor=1e-9, varianceMethod=:groupless)\n",
    "            trial3Tensor[i,j,k] = clusterError(trueLabels,estimatedCluster)\n",
    "            # increase count\n",
    "            count = count + 1\n",
    "        end\n",
    "    end\n",
    "end\n",
    "\n",
    "save(\"trialData.jld\", \"trial0\", trial0Tensor, \"trial1\", trial1Tensor, \"trial2\", trial2Tensor, \"trial3\", trial3Tensor);"
   ]
  },
  {
   "cell_type": "code",
   "execution_count": 7,
   "id": "4221ba0b-0f95-4a40-8aed-d3a68aa5d5b5",
   "metadata": {
    "tags": []
   },
   "outputs": [],
   "source": [
    "trialData = load(\"trialData.jld\")\n",
    "trial0Tensor = trialData[\"trial0\"]\n",
    "trial1Tensor = trialData[\"trial1\"]\n",
    "trial2Tensor = trialData[\"trial2\"]\n",
    "trial3Tensor = trialData[\"trial3\"];"
   ]
  },
  {
   "cell_type": "code",
   "execution_count": 17,
   "id": "17a44942-ff78-4e2b-bf70-c11338719e68",
   "metadata": {
    "tags": []
   },
   "outputs": [
    {
     "data": {
      "text/plain": [
       "\"/home/javier/Desktop/alpcahus/final_step/trial0_median.pdf\""
      ]
     },
     "execution_count": 17,
     "metadata": {},
     "output_type": "execute_result"
    }
   ],
   "source": [
    "generateHeatmap(pointRatio, varianceRatio, trial0Tensor; plotType=:median, methodType=\"EKSS (w/o final assign.)\", ν1=ν1, goodPoints=goodPoints)\n",
    "savefig(\"trial0_median.pdf\")"
   ]
  },
  {
   "cell_type": "code",
   "execution_count": 18,
   "id": "89defb27-e7d0-43f1-b226-be642978b194",
   "metadata": {
    "tags": []
   },
   "outputs": [
    {
     "data": {
      "text/plain": [
       "\"/home/javier/Desktop/alpcahus/final_step/trial1_median.pdf\""
      ]
     },
     "execution_count": 18,
     "metadata": {},
     "output_type": "execute_result"
    }
   ],
   "source": [
    "generateHeatmap(pointRatio, varianceRatio, trial1Tensor; plotType=:median, methodType=\"EKSS (w/ final assign.)\", ν1=ν1, goodPoints=goodPoints)\n",
    "savefig(\"trial1_median.pdf\")"
   ]
  },
  {
   "cell_type": "code",
   "execution_count": 19,
   "id": "d481ffb6-3a1f-4130-9515-033895486573",
   "metadata": {
    "tags": []
   },
   "outputs": [
    {
     "data": {
      "text/plain": [
       "\"/home/javier/Desktop/alpcahus/final_step/trial2_median.pdf\""
      ]
     },
     "execution_count": 19,
     "metadata": {},
     "output_type": "execute_result"
    }
   ],
   "source": [
    "generateHeatmap(pointRatio, varianceRatio, trial2Tensor; plotType=:median, methodType=\"ALPCAHUS (w/o final assign.)\", ν1=ν1, goodPoints=goodPoints)\n",
    "savefig(\"trial2_median.pdf\")"
   ]
  },
  {
   "cell_type": "code",
   "execution_count": 20,
   "id": "e5bd834e-caaf-4e9d-9552-9149d2b53c96",
   "metadata": {
    "tags": []
   },
   "outputs": [
    {
     "data": {
      "text/plain": [
       "\"/home/javier/Desktop/alpcahus/final_step/trial3_median.pdf\""
      ]
     },
     "execution_count": 20,
     "metadata": {},
     "output_type": "execute_result"
    }
   ],
   "source": [
    "generateHeatmap(pointRatio, varianceRatio, trial3Tensor; plotType=:median, methodType=\"ALPCAHUS (w/ final assign.)\", ν1=ν1, goodPoints=goodPoints)\n",
    "savefig(\"trial3_median.pdf\")"
   ]
  },
  {
   "cell_type": "code",
   "execution_count": 21,
   "id": "3be67bd4-6f5e-4b2c-8e12-dff4fd411aaf",
   "metadata": {},
   "outputs": [
    {
     "data": {
      "text/plain": [
       "\"/home/javier/Desktop/alpcahus/final_step/trial0_mean.pdf\""
      ]
     },
     "execution_count": 21,
     "metadata": {},
     "output_type": "execute_result"
    }
   ],
   "source": [
    "generateHeatmap(pointRatio, varianceRatio, trial0Tensor; plotType=:mean, methodType=\"EKSS (w/o final assign.)\", ν1=ν1, goodPoints=goodPoints)\n",
    "savefig(\"trial0_mean.pdf\")"
   ]
  },
  {
   "cell_type": "code",
   "execution_count": 22,
   "id": "b887eed1-de11-4d53-9000-20c205d2f539",
   "metadata": {
    "tags": []
   },
   "outputs": [
    {
     "data": {
      "text/plain": [
       "\"/home/javier/Desktop/alpcahus/final_step/trial1_mean.pdf\""
      ]
     },
     "execution_count": 22,
     "metadata": {},
     "output_type": "execute_result"
    }
   ],
   "source": [
    "generateHeatmap(pointRatio, varianceRatio, trial1Tensor; plotType=:mean, methodType=\"EKSS (w/ final assign.)\", ν1=ν1, goodPoints=goodPoints)\n",
    "savefig(\"trial1_mean.pdf\")"
   ]
  },
  {
   "cell_type": "code",
   "execution_count": 23,
   "id": "cbab78a4-c269-45f0-82ea-d3de667a93ee",
   "metadata": {
    "tags": []
   },
   "outputs": [
    {
     "data": {
      "text/plain": [
       "\"/home/javier/Desktop/alpcahus/final_step/trial2_mean.pdf\""
      ]
     },
     "execution_count": 23,
     "metadata": {},
     "output_type": "execute_result"
    }
   ],
   "source": [
    "generateHeatmap(pointRatio, varianceRatio, trial2Tensor; plotType=:mean, methodType=\"ALPCAHUS (w/o final assign.)\", ν1=ν1, goodPoints=goodPoints)\n",
    "savefig(\"trial2_mean.pdf\")"
   ]
  },
  {
   "cell_type": "code",
   "execution_count": 24,
   "id": "ab36d6a3-0175-4255-ab1e-5a30aa610b3b",
   "metadata": {
    "tags": []
   },
   "outputs": [
    {
     "data": {
      "text/plain": [
       "\"/home/javier/Desktop/alpcahus/final_step/trial3_mean.pdf\""
      ]
     },
     "execution_count": 24,
     "metadata": {},
     "output_type": "execute_result"
    }
   ],
   "source": [
    "generateHeatmap(pointRatio, varianceRatio, trial3Tensor; plotType=:mean, methodType=\"ALPCAHUS (w/ final assign.)\", ν1=ν1, goodPoints=goodPoints)\n",
    "savefig(\"trial3_mean.pdf\")"
   ]
  },
  {
   "cell_type": "code",
   "execution_count": 25,
   "id": "ae4f841a-5e3a-44e4-9efd-c65125fb1751",
   "metadata": {
    "tags": []
   },
   "outputs": [
    {
     "data": {
      "text/plain": [
       "\"/home/javier/Desktop/alpcahus/final_step/trial0_variance.pdf\""
      ]
     },
     "execution_count": 25,
     "metadata": {},
     "output_type": "execute_result"
    }
   ],
   "source": [
    "generateHeatmap(pointRatio, varianceRatio, trial0Tensor; plotType=:variance, methodType=\"EKSS (w/o final assign.)\", ν1=ν1, goodPoints=goodPoints)\n",
    "savefig(\"trial0_variance.pdf\")"
   ]
  },
  {
   "cell_type": "code",
   "execution_count": 26,
   "id": "405cc607-acbb-429e-97aa-aca7fd38aefc",
   "metadata": {
    "tags": []
   },
   "outputs": [
    {
     "data": {
      "text/plain": [
       "\"/home/javier/Desktop/alpcahus/final_step/trial1_variance.pdf\""
      ]
     },
     "execution_count": 26,
     "metadata": {},
     "output_type": "execute_result"
    }
   ],
   "source": [
    "generateHeatmap(pointRatio, varianceRatio, trial1Tensor; plotType=:variance, methodType=\"EKSS (w/ final assign.)\", ν1=ν1, goodPoints=goodPoints)\n",
    "savefig(\"trial1_variance.pdf\")"
   ]
  },
  {
   "cell_type": "code",
   "execution_count": 27,
   "id": "4890585e-6442-47e2-b344-7284b03bd9f5",
   "metadata": {
    "tags": []
   },
   "outputs": [
    {
     "data": {
      "text/plain": [
       "\"/home/javier/Desktop/alpcahus/final_step/trial2_variance.pdf\""
      ]
     },
     "execution_count": 27,
     "metadata": {},
     "output_type": "execute_result"
    }
   ],
   "source": [
    "generateHeatmap(pointRatio, varianceRatio, trial2Tensor; plotType=:variance, methodType=\"ALPCAHUS (w/o final assign.)\", ν1=ν1, goodPoints=goodPoints)\n",
    "savefig(\"trial2_variance.pdf\")"
   ]
  },
  {
   "cell_type": "code",
   "execution_count": 28,
   "id": "fcc7dec1-b387-4d15-a8b3-3b7cad271993",
   "metadata": {
    "tags": []
   },
   "outputs": [
    {
     "data": {
      "text/plain": [
       "\"/home/javier/Desktop/alpcahus/final_step/trial3_variance.pdf\""
      ]
     },
     "execution_count": 28,
     "metadata": {},
     "output_type": "execute_result"
    }
   ],
   "source": [
    "generateHeatmap(pointRatio, varianceRatio, trial3Tensor; plotType=:variance, methodType=\"ALPCAHUS (w/ final assign.)\", ν1=ν1, goodPoints=goodPoints)\n",
    "savefig(\"trial3_variance.pdf\")"
   ]
  },
  {
   "cell_type": "code",
   "execution_count": null,
   "id": "257e2779-f73e-4d83-87db-9d7e60a8fde6",
   "metadata": {},
   "outputs": [],
   "source": []
  }
 ],
 "metadata": {
  "kernelspec": {
   "display_name": "Julia (32 threads) 1.8.5",
   "language": "julia",
   "name": "julia-_32-threads_-1.8"
  },
  "language_info": {
   "file_extension": ".jl",
   "mimetype": "application/julia",
   "name": "julia",
   "version": "1.8.5"
  }
 },
 "nbformat": 4,
 "nbformat_minor": 5
}
