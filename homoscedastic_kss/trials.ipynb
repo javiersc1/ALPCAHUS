{
 "cells": [
  {
   "cell_type": "code",
   "execution_count": 1,
   "id": "cf52d54b-446b-4082-9895-119f9a34ab81",
   "metadata": {
    "tags": []
   },
   "outputs": [
    {
     "data": {
      "text/plain": [
       "hungarianAlgorithm (generic function with 1 method)"
      ]
     },
     "execution_count": 1,
     "metadata": {},
     "output_type": "execute_result"
    }
   ],
   "source": [
    "using ProgressMeter\n",
    "using JLD\n",
    "using Random\n",
    "include(\"../alpcahus.jl\")\n",
    "include(\"../helperFunctions.jl\")\n",
    "include(\"../cluster.jl\")"
   ]
  },
  {
   "cell_type": "code",
   "execution_count": 2,
   "id": "34d1d87e-d95f-46d3-a239-cacd57da0af1",
   "metadata": {
    "tags": []
   },
   "outputs": [
    {
     "data": {
      "text/plain": [
       "\"/home/javier/Desktop/alpcahus/homoscedastic_kss\""
      ]
     },
     "execution_count": 2,
     "metadata": {},
     "output_type": "execute_result"
    }
   ],
   "source": [
    "pwd()"
   ]
  },
  {
   "cell_type": "code",
   "execution_count": 2,
   "id": "c55c0acd-5c69-4dbf-9c75-fc983c3a48fe",
   "metadata": {
    "tags": []
   },
   "outputs": [],
   "source": [
    "D = 50 # ambient space dimension\n",
    "d = 3 # subspace dimension\n",
    "startingPoints = 6 # good points per subspace\n",
    "v = 0.1 # noise variance good points\n",
    "K = 2 # subspace count\n",
    "varianceRatio = range( 1,150,5) # variance ratio for heatmaps\n",
    "pointRatio = range(1,50,5) # point ratio between good bad data for heatmaps\n",
    "trials = 100; # smoother results\n",
    "qValue = 24;"
   ]
  },
  {
   "cell_type": "code",
   "execution_count": 4,
   "id": "ec4c887b-9554-4347-b939-a562e572c320",
   "metadata": {
    "tags": []
   },
   "outputs": [],
   "source": [
    "seedVector1 = rand(Xoshiro(1234), 1:100000, trials*length(varianceRatio)*length(pointRatio));\n",
    "seedVector2 = rand(Xoshiro(4321), 1:100000, trials*length(varianceRatio)*length(pointRatio));\n",
    "seedVector3 = rand(Xoshiro(2143), 1:100000, trials*length(varianceRatio)*length(pointRatio));\n",
    "seedVector4 = rand(Xoshiro(3412), 1:100000, trials*length(varianceRatio)*length(pointRatio));"
   ]
  },
  {
   "cell_type": "code",
   "execution_count": 5,
   "id": "8d8aa4f2-6017-43a1-9f52-63f841d1ec8f",
   "metadata": {
    "tags": []
   },
   "outputs": [
    {
     "name": "stderr",
     "output_type": "stream",
     "text": [
      "\u001b[32mRunning... 100%|█████████████████████████████████████████| Time: 1:10:40\u001b[39m\n"
     ]
    }
   ],
   "source": [
    "ekssTensor = zeros(length(varianceRatio), length(pointRatio),trials)\n",
    "alpcahTensor = zeros(length(varianceRatio), length(pointRatio),trials)\n",
    "oracleTensor = zeros(length(varianceRatio), length(pointRatio),trials)\n",
    "\n",
    "count = 1\n",
    "@showprogress 1 \"Running...\" for i = 1:length(varianceRatio) # varianceRatio\n",
    "     for j = 1:length(pointRatio) # prepend Threads.@threads for multi-threading\n",
    "        for k = 1:trials\n",
    "            # subspace generation\n",
    "            U1 = generateSubspace(D, d; seed=seedVector1[count]) \n",
    "            U2 = generateSubspace(D, d; seed=seedVector2[count])\n",
    "            # data generation\n",
    "            totalPoints = round(Int,startingPoints*pointRatio[j])\n",
    "            totalVariance = v*varianceRatio[i]\n",
    "        \n",
    "            X1 = generateDataHomo(U1, totalVariance, totalPoints ; seed=seedVector3[count])\n",
    "            X2 = generateDataHomo(U2, totalVariance, totalPoints; seed=seedVector4[count])\n",
    "            # complete data matrix\n",
    "            X = hcat(X1,X2);\n",
    "            # cluster assignments\n",
    "            trueLabels = vec([1*ones(size(X1)[2],1); 2*ones(size(X2)[2],1)]);\n",
    "            # ekss trial\n",
    "            estimatedCluster = ALPCAHUS(X,K, [d,d]; B=1, q=qValue, T=100, subspaceMethod=:pca, finalStep=false)\n",
    "            ekssTensor[i,j,k] = clusterError(trueLabels,estimatedCluster)\n",
    "            # alpcahus trail\n",
    "            estimatedCluster = ALPCAHUS(X,K, [d,d]; B=1, q=qValue, T=100, alpcahIter=100, subspaceMethod=:alpcah, finalStep=true, varfloor=1e-9, varianceMethod=:groupless) \n",
    "            alpcahTensor[i,j,k] = clusterError(trueLabels,estimatedCluster)\n",
    "            # noisy oracle trial       \n",
    "            noisyU1 = svd(X1).U[:,1:d]\n",
    "            noisyU2 = svd(X2).U[:,1:d]\n",
    "            estimatedCluster = clusterAssignment(X, [noisyU1, noisyU2], K)\n",
    "            oracleTensor[i,j,k] = clusterError(trueLabels,estimatedCluster)\n",
    "            # increase count\n",
    "            count = count + 1\n",
    "        end\n",
    "    end\n",
    "end\n",
    "\n",
    "save(\"trialData.jld\", \"ekss\", ekssTensor, \"alpcah\", alpcahTensor, \"oracle\", oracleTensor);"
   ]
  },
  {
   "cell_type": "code",
   "execution_count": 3,
   "id": "4221ba0b-0f95-4a40-8aed-d3a68aa5d5b5",
   "metadata": {
    "tags": []
   },
   "outputs": [],
   "source": [
    "trialData = load(\"trialData.jld\")\n",
    "ekssTensor = trialData[\"ekss\"]\n",
    "alpcahTensor = trialData[\"alpcah\"]\n",
    "oracleTensor = trialData[\"oracle\"];"
   ]
  },
  {
   "cell_type": "code",
   "execution_count": 6,
   "id": "89defb27-e7d0-43f1-b226-be642978b194",
   "metadata": {
    "tags": []
   },
   "outputs": [
    {
     "data": {
      "text/plain": [
       "\"/home/javier/Desktop/alpcahus/homoscedastic_kss/kss_median.pdf\""
      ]
     },
     "execution_count": 6,
     "metadata": {},
     "output_type": "execute_result"
    }
   ],
   "source": [
    "generateHeatmap3(pointRatio, varianceRatio, ekssTensor; plotType=:median, methodType=\"KSS\", v=v, startingPoints=startingPoints)\n",
    "savefig(\"kss_median.pdf\")"
   ]
  },
  {
   "cell_type": "code",
   "execution_count": 7,
   "id": "d481ffb6-3a1f-4130-9515-033895486573",
   "metadata": {
    "tags": []
   },
   "outputs": [
    {
     "data": {
      "text/plain": [
       "\"/home/javier/Desktop/alpcahus/homoscedastic_kss/alpcahus_median.pdf\""
      ]
     },
     "execution_count": 7,
     "metadata": {},
     "output_type": "execute_result"
    }
   ],
   "source": [
    "generateHeatmap3(pointRatio, varianceRatio, alpcahTensor; plotType=:median, methodType=\"ALPCAHUS\", v=v, startingPoints=startingPoints)\n",
    "savefig(\"alpcahus_median.pdf\")"
   ]
  },
  {
   "cell_type": "code",
   "execution_count": 8,
   "id": "e5bd834e-caaf-4e9d-9552-9149d2b53c96",
   "metadata": {
    "tags": []
   },
   "outputs": [
    {
     "data": {
      "text/plain": [
       "\"/home/javier/Desktop/alpcahus/homoscedastic_kss/oracle_median.pdf\""
      ]
     },
     "execution_count": 8,
     "metadata": {},
     "output_type": "execute_result"
    }
   ],
   "source": [
    "generateHeatmap3(pointRatio, varianceRatio, oracleTensor; plotType=:median, methodType=\"Noisy Oracle\", v=v, startingPoints=startingPoints)\n",
    "savefig(\"oracle_median.pdf\")"
   ]
  },
  {
   "cell_type": "code",
   "execution_count": 9,
   "id": "ebacfc4f-9766-46a9-a602-e0133fdb7b79",
   "metadata": {
    "tags": []
   },
   "outputs": [
    {
     "data": {
      "text/plain": [
       "\"/home/javier/Desktop/alpcahus/homoscedastic_kss/kss_mean.pdf\""
      ]
     },
     "execution_count": 9,
     "metadata": {},
     "output_type": "execute_result"
    }
   ],
   "source": [
    "generateHeatmap3(pointRatio, varianceRatio, ekssTensor; plotType=:mean, methodType=\"KSS\", v=v, startingPoints=startingPoints)\n",
    "savefig(\"kss_mean.pdf\")"
   ]
  },
  {
   "cell_type": "code",
   "execution_count": 10,
   "id": "93dc9347-3e32-4b8b-a9de-7e9074599182",
   "metadata": {
    "tags": []
   },
   "outputs": [
    {
     "data": {
      "text/plain": [
       "\"/home/javier/Desktop/alpcahus/homoscedastic_kss/alpcahus_mean.pdf\""
      ]
     },
     "execution_count": 10,
     "metadata": {},
     "output_type": "execute_result"
    }
   ],
   "source": [
    "generateHeatmap3(pointRatio, varianceRatio, alpcahTensor; plotType=:mean, methodType=\"ALPCAHUS\", v=v, startingPoints=startingPoints)\n",
    "savefig(\"alpcahus_mean.pdf\")"
   ]
  },
  {
   "cell_type": "code",
   "execution_count": 11,
   "id": "6380e2c7-dade-4e80-8503-b17a21831942",
   "metadata": {
    "tags": []
   },
   "outputs": [
    {
     "data": {
      "text/plain": [
       "\"/home/javier/Desktop/alpcahus/homoscedastic_kss/oracle_mean.pdf\""
      ]
     },
     "execution_count": 11,
     "metadata": {},
     "output_type": "execute_result"
    }
   ],
   "source": [
    "generateHeatmap3(pointRatio, varianceRatio, oracleTensor; plotType=:mean, methodType=\"Noisy Oracle\", v=v, startingPoints=startingPoints)\n",
    "savefig(\"oracle_mean.pdf\")"
   ]
  },
  {
   "cell_type": "code",
   "execution_count": 12,
   "id": "adad7704-d338-4730-8ee6-3742b9e3d124",
   "metadata": {
    "tags": []
   },
   "outputs": [
    {
     "data": {
      "text/plain": [
       "\"/home/javier/Desktop/alpcahus/homoscedastic_kss/kss_variance.pdf\""
      ]
     },
     "execution_count": 12,
     "metadata": {},
     "output_type": "execute_result"
    }
   ],
   "source": [
    "generateHeatmap3(pointRatio, varianceRatio, ekssTensor; plotType=:variance, methodType=\"KSS\", v=v, startingPoints=startingPoints)\n",
    "savefig(\"kss_variance.pdf\")"
   ]
  },
  {
   "cell_type": "code",
   "execution_count": 13,
   "id": "20b79a6a-096f-4299-80fa-2dec0e959e43",
   "metadata": {
    "tags": []
   },
   "outputs": [
    {
     "data": {
      "text/plain": [
       "\"/home/javier/Desktop/alpcahus/homoscedastic_kss/alpcahus_variance.pdf\""
      ]
     },
     "execution_count": 13,
     "metadata": {},
     "output_type": "execute_result"
    }
   ],
   "source": [
    "generateHeatmap3(pointRatio, varianceRatio, alpcahTensor; plotType=:variance, methodType=\"ALPCAHUS\", v=v, startingPoints=startingPoints)\n",
    "savefig(\"alpcahus_variance.pdf\")"
   ]
  },
  {
   "cell_type": "code",
   "execution_count": 14,
   "id": "00d11357-cd3f-4925-b45c-bbce5c8bb734",
   "metadata": {
    "tags": []
   },
   "outputs": [
    {
     "data": {
      "text/plain": [
       "\"/home/javier/Desktop/alpcahus/homoscedastic_kss/oracle_variance.pdf\""
      ]
     },
     "execution_count": 14,
     "metadata": {},
     "output_type": "execute_result"
    }
   ],
   "source": [
    "generateHeatmap3(pointRatio, varianceRatio, oracleTensor; plotType=:variance, methodType=\"Noisy Oracle\", v=v, startingPoints=startingPoints)\n",
    "savefig(\"oracle_variance.pdf\")"
   ]
  },
  {
   "cell_type": "code",
   "execution_count": null,
   "id": "3e7938e0-b80d-4952-a6f4-c7e59f496916",
   "metadata": {},
   "outputs": [],
   "source": []
  }
 ],
 "metadata": {
  "kernelspec": {
   "display_name": "Julia (31 threads) 1.9.3",
   "language": "julia",
   "name": "julia-_31-threads_-1.9"
  },
  "language_info": {
   "file_extension": ".jl",
   "mimetype": "application/julia",
   "name": "julia",
   "version": "1.9.3"
  }
 },
 "nbformat": 4,
 "nbformat_minor": 5
}
